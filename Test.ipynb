{
 "cells": [
  {
   "cell_type": "code",
   "execution_count": 4,
   "metadata": {},
   "outputs": [],
   "source": [
    "import warnings\n",
    "warnings.filterwarnings('ignore')\n",
    "import numpy as np\n",
    "from six.moves import range\n",
    "import tensorflow as tf\n",
    "import tensorflow_federated as tff\n",
    "from matplotlib import pyplot as plt\n",
    "import pickle\n",
    "tf.compat.v1.enable_v2_behavior()"
   ]
  },
  {
   "cell_type": "code",
   "execution_count": 5,
   "metadata": {},
   "outputs": [],
   "source": [
    "def load_data():\n",
    "    with open(\"cifar/train_data.h5\", \"rb\") as train_file:\n",
    "        with open(\"cifar/test_data.h5\", \"rb\") as test_file:\n",
    "            trainX, trainY = pickle.load(train_file)\n",
    "            testX, testY = pickle.load(test_file)\n",
    "    trainX = np.asarray(trainX)\n",
    "    trainY = np.asarray(trainY)\n",
    "    testX = np.asarray(testX)\n",
    "    testY = np.asarray(testY)\n",
    "    return trainX, trainY, testX, testY"
   ]
  },
  {
   "cell_type": "code",
   "execution_count": 6,
   "metadata": {},
   "outputs": [
    {
     "data": {
      "text/plain": [
       "(50000, 32, 32, 3)"
      ]
     },
     "execution_count": 6,
     "metadata": {},
     "output_type": "execute_result"
    }
   ],
   "source": [
    "load_data()[0].shape"
   ]
  },
  {
   "cell_type": "code",
   "execution_count": 7,
   "metadata": {},
   "outputs": [],
   "source": [
    "class KerasModel(tf.keras.Model):\n",
    "    def __init__(self):\n",
    "        super(KerasModel, self).__init__()\n",
    "        self.dense1 = tf.keras.layers.Dense(4, activation=tf.nn.relu)\n",
    "        self.dense2 = tf.keras.layers.Dense(5, activation=tf.nn.softmax)\n",
    "        \n",
    "    \n",
    "    def call(self, inputs):\n",
    "        x = self.dense1(inputs)\n",
    "        return self.dense2(x)"
   ]
  },
  {
   "cell_type": "code",
   "execution_count": null,
   "metadata": {},
   "outputs": [],
   "source": [
    "# Change client weight determination methods?\n",
    "class FLModel(tff.learning.TrainableModel):\n",
    "    @tf.contrib.eager"
   ]
  },
  {
   "cell_type": "code",
   "execution_count": 17,
   "metadata": {},
   "outputs": [
    {
     "data": {
      "text/plain": [
       "[<tf.Variable 'dense_16/kernel:0' shape=(3, 4) dtype=float32, numpy=\n",
       " array([[ 0.04557735, -0.6356365 ,  0.55805886, -0.30179328],\n",
       "        [ 0.15474272, -0.02363408, -0.06184733, -0.71977186],\n",
       "        [-0.5228251 ,  0.8493484 , -0.7419575 ,  0.7477813 ]],\n",
       "       dtype=float32)>,\n",
       " <tf.Variable 'dense_16/bias:0' shape=(4,) dtype=float32, numpy=array([0., 0., 0., 0.], dtype=float32)>,\n",
       " <tf.Variable 'dense_17/kernel:0' shape=(4, 5) dtype=float32, numpy=\n",
       " array([[-0.05708736, -0.06648827, -0.395817  , -0.6335675 , -0.5420177 ],\n",
       "        [-0.17965865, -0.04076582, -0.44796854,  0.48772073, -0.6746968 ],\n",
       "        [-0.07493293,  0.3303988 , -0.69152796, -0.783054  , -0.8014575 ],\n",
       "        [-0.08694828,  0.5920042 , -0.3047486 , -0.4738368 ,  0.38270962]],\n",
       "       dtype=float32)>,\n",
       " <tf.Variable 'dense_17/bias:0' shape=(5,) dtype=float32, numpy=array([0., 0., 0., 0., 0.], dtype=float32)>]"
      ]
     },
     "execution_count": 17,
     "metadata": {},
     "output_type": "execute_result"
    }
   ],
   "source": [
    "model = KerasModel()\n",
    "inputs = tf.keras.Input(shape=(3,))\n",
    "model(inputs)\n",
    "model.weights"
   ]
  },
  {
   "cell_type": "code",
   "execution_count": null,
   "metadata": {},
   "outputs": [],
   "source": []
  }
 ],
 "metadata": {
  "kernelspec": {
   "display_name": "Python 3",
   "language": "python",
   "name": "python3"
  },
  "language_info": {
   "codemirror_mode": {
    "name": "ipython",
    "version": 3
   },
   "file_extension": ".py",
   "mimetype": "text/x-python",
   "name": "python",
   "nbconvert_exporter": "python",
   "pygments_lexer": "ipython3",
   "version": "3.6.7"
  }
 },
 "nbformat": 4,
 "nbformat_minor": 2
}
